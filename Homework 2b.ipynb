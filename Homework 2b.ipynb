{
 "cells": [
  {
   "cell_type": "markdown",
   "metadata": {},
   "source": [
    "# Homework 2b: Integration\n",
    "Physics 177, Spring 2018\n",
    "**Due:** Tuesday, April 17 (Note: there will be no class on Tuesday April 17)\n",
    "\n",
    "*Enter your name here*"
   ]
  },
  {
   "cell_type": "markdown",
   "metadata": {},
   "source": [
    "## 1. The Green Problem\n",
    "\n",
    "In class we considered a puzzle where numerical integration failed to give reasonable solutions in reasonable time. In this problem we'll build a quick Riemann sum integrator to explore the puzzle.\n",
    "\n",
    "The basic form of the problem is as follows. You want to integrate a curious expression:\n",
    "$$\\int_0^{100} dx \\; \\left[f_1(x) - f_2(x)\\right]\\;\\Theta\\left(f_1(x) - f_2(x)\\right)$$\n",
    "\n",
    "Where $\\Theta$ is the Heaviside step function. It is defined to be\n",
    "$$\\Theta(y) = \\left\\{ \n",
    "    \\begin{array}{ll}\n",
    "    1 & \\text{if } y \\geq 0 \\\\\n",
    "    0 & \\text{otherwise}\n",
    "    \\end{array} \n",
    "\\right. \\ .$$\n",
    "\n",
    "The functions $f_1(x)$ and $f_2(x)$ take the following form:\n",
    "$$\n",
    "\\begin{align}\n",
    "f_1(x) &= (\\text{small})\\, x^2 + (\\text{small}) \\\\\n",
    "f_2(x) &= (\\text{big})\\, x^2\n",
    "\\end{align}\n",
    "$$\n",
    "\n",
    "'Small' and 'big' refer to positive numbers.   In the rest of this problem, fill in the rest of the Jupyter notebook as requested"
   ]
  },
  {
   "cell_type": "markdown",
   "metadata": {},
   "source": [
    "### 1.a) Defining the step function\n",
    "\n",
    "Define a function `theta_function(x)` that uses `if` and `else` to return $\\Theta(x)$. Fill in the cell below and run the following cell to test the function. If you need a refresher on `if` statements, check out the [Python 3 tutorial on control flow](https://docs.python.org/3/tutorial/controlflow.html).\n",
    "\n",
    "**Fun fact**: the [Heaviside step function](https://en.wikipedia.org/wiki/Heaviside_step_function) is named after a real person, Oliver Heaviside. For a long time I thought it was named because it looks like a flat function that got \"heavy on one side.\""
   ]
  },
  {
   "cell_type": "code",
   "execution_count": 30,
   "metadata": {},
   "outputs": [],
   "source": [
    "# Here's some starter code. Fill in the rest.\n",
    "\n",
    "def theta_function(x):\n",
    "    if x >= 0:\n",
    "        theta_function = 1\n",
    "    else:\n",
    "        theta_function = 0\n",
    "    return theta_function\n",
    "\n",
    " \n",
    "\n",
    "    "
   ]
  },
  {
   "cell_type": "code",
   "execution_count": 32,
   "metadata": {},
   "outputs": [
    {
     "name": "stdout",
     "output_type": "stream",
     "text": [
      "Your function passes for x>0: True\n",
      "Your function passes for x<0: True\n"
     ]
    }
   ],
   "source": [
    "# Run this cell to test theta_function(x)\n",
    "\n",
    "print(\"Your function passes for x>0: %r\" % (theta_function(3) == 1))\n",
    "\n",
    "print(\"Your function passes for x<0: %r\" % (theta_function(-3.1) == 0))\n",
    "\n",
    "\n",
    "# Remark: the %r notation is called string formatting\n",
    "# for more information, see https://www.learnpython.org/en/String_Formatting\n",
    "# %r specifically refers to a boolean value that is defined after the '%'"
   ]
  },
  {
   "cell_type": "markdown",
   "metadata": {},
   "source": [
    "### 1.b) Define the functions\n",
    "\n",
    "In the cell below, define *global variables* that correspond to the 'small' and 'big numbers'. Then write functions definitions for $f_1$ and $f_2$. To be descriptive, we'll name $f_1$ = `shallow_shifted_parabola` and $f_2$ = `tight_parabola`. Fill in the cell below and run the tests in the next cell.\n",
    "\n",
    "Choose `small_number` and `small_shift` to be 0.01, choose `big_number` to be 100.\n",
    "\n",
    "You may want review chapter 2.2.4 in Newman if you want a refresher on how to write $$x^2$$ in Python. "
   ]
  },
  {
   "cell_type": "code",
   "execution_count": 70,
   "metadata": {},
   "outputs": [],
   "source": [
    "small_number = 0.01\n",
    "small_shift  = 0.01\n",
    "big_number   = 100\n",
    "\n",
    "def shallow_shifted_parabola(x):\n",
    "    '''This is what we called function f_1'''\n",
    "    return (small_number)*(x**2)+small_number\n",
    "   \n",
    "   \n",
    "   \n",
    "\n",
    "def tight_parabola(x):\n",
    "    '''This is what we called function f_2'''\n",
    "    return (big_number)*(x**2)\n",
    "  "
   ]
  },
  {
   "cell_type": "code",
   "execution_count": 71,
   "metadata": {},
   "outputs": [
    {
     "name": "stdout",
     "output_type": "stream",
     "text": [
      "Test for f1(2.0): True\n",
      "Test for f2(4.0): True\n"
     ]
    }
   ],
   "source": [
    "print(\"Test for f1(2.0): %r\" % (shallow_shifted_parabola(2) == 0.05))\n",
    "\n",
    "print(\"Test for f2(4.0): %r\" % (tight_parabola(2) == 400.))\n"
   ]
  },
  {
   "cell_type": "markdown",
   "metadata": {},
   "source": [
    "### 1.c) Write an integrator\n",
    "\n",
    "Define a function that integrates another function over the range 0 to 100 using Riemann sums of some specified bin width. Fill in the cell below, run the test cell afterward.\n",
    "\n",
    "You may want to refer to the [Lecture 3 notes](https://github.com/Physics177-2018/Lecture_03). "
   ]
  },
  {
   "cell_type": "code",
   "execution_count": 223,
   "metadata": {
    "scrolled": true
   },
   "outputs": [],
   "source": [
    "lower_limit = 0\n",
    "upper_limit = 100\n",
    "def integrate_zero_to_100(function_name, bin_width):\n",
    "    \"\"\"Riemann sum integration of function_name from 0 to 100\"\"\"\n",
    "    sample_at = bin_width/2.0 \n",
    "    total = 0.0 \n",
    "    \n",
    "    while sample_at < upper_limit:\n",
    "        total = total + function_name(sample_at)*bin_width\n",
    "        sample_at = sample_at + bin_width\n",
    "        \n",
    "    return total\n",
    "    \n",
    "    \n"
   ]
  },
  {
   "cell_type": "code",
   "execution_count": 224,
   "metadata": {
    "scrolled": true
   },
   "outputs": [
    {
     "name": "stdout",
     "output_type": "stream",
     "text": [
      "This number should be close to 100: 100.00000000001425\n"
     ]
    }
   ],
   "source": [
    "def test_function(x):\n",
    "    return 1.\n",
    "\n",
    "print(\"This number should be close to 100: %s\" % integrate_zero_to_100(test_function, .01))"
   ]
  },
  {
   "cell_type": "markdown",
   "metadata": {},
   "source": [
    "### 1.d) Integrate our tricky integrand\n",
    "\n",
    "You now have all of the pieces to calculate the tricky integrand,\n",
    "$$\\int_0^{100} dx \\; \\left[f_1(x) - f_2(x)\\right]\\;\\Theta\\left(f_1(x) - f_2(x)\\right)$$\n",
    "\n",
    "Do this for `bin_width` = 0.1. You'll want to start be defining a function, `my_integrand` that you can feed into your integrator. Fill in the following cell, and run the test afterward."
   ]
  },
  {
   "cell_type": "code",
   "execution_count": 227,
   "metadata": {},
   "outputs": [],
   "source": [
    "\n",
    "\n",
    "def my_integrand(x):\n",
    "    \"\"\"[ f1(x)-f2(x) ]*Theta( f1(x)-f2(x) )\"\"\"\n",
    "    return (((small_number)*(x**2)+small_number) - (big_number)*(x**2))*theta_function(((small_number)*(x**2)+small_number) - (big_number)*(x**2))\n",
    "\n",
    "    "
   ]
  },
  {
   "cell_type": "code",
   "execution_count": 228,
   "metadata": {},
   "outputs": [
    {
     "data": {
      "text/plain": [
       "0.0"
      ]
     },
     "execution_count": 228,
     "metadata": {},
     "output_type": "execute_result"
    }
   ],
   "source": [
    "# Run this\n",
    "integrate_zero_to_100(my_integrand,0.1)\n",
    "\n",
    "# Is this what you expect?"
   ]
  },
  {
   "cell_type": "markdown",
   "metadata": {},
   "source": [
    "### 1.e) Comment on the results\n",
    "\n",
    "Is this what you expect? In your own words, explain what's going on here.\n",
    "\n",
    "### answer.\n",
    "The problem is that the integrator is integrating over the limits we gave it which dont actually make sense for the problem if it were drawn out. The limits of integration would need to be changed in order for the correct answer to work with this piece of code."
   ]
  },
  {
   "cell_type": "markdown",
   "metadata": {},
   "source": [
    "### 1.x) Extra credit: what is the correct result?\n",
    "\n",
    "Use pencil and paper to perform the integration by hand. This requires a modicum of cleverness. Write a function that gives the value of the integral as a function of the small numbers that define $f_1$ and the big number that defines $f_2$. Test it using the cell below."
   ]
  },
  {
   "cell_type": "code",
   "execution_count": null,
   "metadata": {},
   "outputs": [],
   "source": [
    "def analytic_solution(small_number, small_shift, big_number):\n",
    "    \"\"\"Returns analytic solution to the Green problem\"\"\"\n",
    "    # FILL THIS IN"
   ]
  },
  {
   "cell_type": "code",
   "execution_count": null,
   "metadata": {},
   "outputs": [],
   "source": [
    "print(\"This number should be close to 0.00053336: %s\" % analytic_solution(0.01, 0.04, 100))"
   ]
  },
  {
   "cell_type": "markdown",
   "metadata": {},
   "source": [
    "## 2. Trapezoidal Rule\n",
    "\n",
    "Write an integrator that takes a function and bin width, and returns the integral of that function from 0 to 1 using the trapezoidal rule.\n",
    "\n",
    "You may want to refer to chapter 5.1 of Newman for background, or chapter 3 of the book **Basic concepts in computational physics** by Stickler (we have [free access to this through the library](http://scotty.ucr.edu/record=b5077839~S5), you may need to [VPN](http://cnc.ucr.edu/vpn/) into it if you're off campus)."
   ]
  },
  {
   "cell_type": "code",
   "execution_count": 265,
   "metadata": {},
   "outputs": [],
   "source": [
    "upper_limit = 1\n",
    "lower_limit = 0\n",
    "def trapezoidal_integrator(my_function, bin_width):\n",
    "    \"\"\"Integrates from 0 to 1 using trapezoidal rule\"\"\"\n",
    "    \n",
    "    delta_x = (upper_limit - lower_limit)*bin_width\n",
    "    x_low =  lower_limit \n",
    "    total = 0\n",
    "    \n",
    "    while x_low < upper_limit:\n",
    "        total += (my_function(x_low)+my_function(x_low+delta_x))*delta_x/2\n",
    "        x_low = x_low + delta_x\n",
    "    return total\n",
    "    "
   ]
  },
  {
   "cell_type": "code",
   "execution_count": 274,
   "metadata": {},
   "outputs": [
    {
     "name": "stdout",
     "output_type": "stream",
     "text": [
      "This should be close to 1/3: 0.33335000000000037\n"
     ]
    }
   ],
   "source": [
    "def my_test_function(x):\n",
    "    return x**2\n",
    "\n",
    "print(\"This should be close to 1/3: %s\" % trapezoidal_integrator(my_test_function,.01))"
   ]
  },
  {
   "cell_type": "markdown",
   "metadata": {},
   "source": [
    "## X.1 Extra credit: Simpson's Rule\n",
    "\n",
    "Using either Newman, Stickler, or whatever resources you find useful, write and integrator that re-does problem 2 but with **Simpson's rules** instead of the trapezoidal rule. Use the same test function and `bin_width` to check the integration. Comment on how good the approximation is."
   ]
  },
  {
   "cell_type": "code",
   "execution_count": null,
   "metadata": {},
   "outputs": [],
   "source": [
    "# YOUR WORK HERE"
   ]
  },
  {
   "cell_type": "markdown",
   "metadata": {},
   "source": [
    "## X.2 Extra credit: reading\n",
    "\n",
    "Read the article \"[The Scientific Paper Is Obsolete](https://www.theatlantic.com/science/archive/2018/04/the-scientific-paper-is-obsolete/556676/),\" by James Somers in *The Atlantic* (April 5, 2018). It describes an ongoing revolution in the way we communicate research to one another. (Physicists have tended to be ahead of the curve for these things.)\n",
    "\n",
    "In your own words, please answer the following:  \n",
    "* What is one reason why some scientists may not want to share their data?\n",
    "* What is the significance of the Jupyter logo?\n",
    "* What is meant by \"the cathedral\" versus \"the bazaar\"?"
   ]
  }
 ],
 "metadata": {
  "kernelspec": {
   "display_name": "Python 3",
   "language": "python",
   "name": "python3"
  },
  "language_info": {
   "codemirror_mode": {
    "name": "ipython",
    "version": 3
   },
   "file_extension": ".py",
   "mimetype": "text/x-python",
   "name": "python",
   "nbconvert_exporter": "python",
   "pygments_lexer": "ipython3",
   "version": "3.6.4"
  }
 },
 "nbformat": 4,
 "nbformat_minor": 2
}
