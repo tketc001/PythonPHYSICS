{
 "cells": [
  {
   "cell_type": "markdown",
   "metadata": {},
   "source": [
    "# Homework 3b: Bessel Functions\n",
    "Physics 177, Spring 2018  \n",
    "**Due:** Tuesday, April 24\n",
    "\n",
    "Trevor Ketcherside"
   ]
  },
  {
   "cell_type": "markdown",
   "metadata": {},
   "source": [
    "## 1. Simpson's Rule Integrator \n",
    "\n",
    "Write an integrator function using **Simpson's rule**. The integrator should take the following arguments:\n",
    "* A function, $f$\n",
    "* Two real numbers giving the limits of integration, $a$ and $b$\n",
    "* The number of steps $N$ to sample\n",
    "\n",
    "There are different ways of implementing Simpson's rule. Here's one example from (5.9) of Newman's *Computational Physics*:\n",
    "\n",
    "$\\displaystyle I(a,b) = \\frac{1}{3}\\Delta x\\left[ f(a) + f(b) + 4 \\sum_{k \\text{ odd}}^{N-1} f(a+k\\Delta x) + 2 \\sum_{k \\text{ even}}^{N-2} f(a+k\\Delta x) \\right]$ ,\n",
    "\n",
    "where the step size is $\\Delta x = (b-a)/N$.\n",
    "\n",
    "**Remark**: this is different from the technique that we used [in class](https://github.com/Physics177-2018/Lecture_04/blob/master/Lecture%204.ipynb)! You may use either technique, as long as it's correct. "
   ]
  },
  {
   "cell_type": "markdown",
   "metadata": {},
   "source": [
    "### 1.a) Write up the function\n",
    "\n",
    "Fill in the stub function below"
   ]
  },
  {
   "cell_type": "code",
   "execution_count": 1,
   "metadata": {},
   "outputs": [],
   "source": [
    "def integrate_HW3(function_name, lower_limit, upper_limit, Nsteps):\n",
    "    \"\"\"\n",
    "    Returns the integral using Simpson's rule\n",
    "    \"\"\"\n",
    "    delta_x = (upper_limit - lower_limit)/Nsteps\n",
    "    x_low = lower_limit\n",
    "    total = 0.0\n",
    "    while x_low + 2*delta_x <= upper_limit:\n",
    "        sum_of_terms = function_name(x_low) +4*function_name(x_low + delta_x) + function_name(x_low + 2*delta_x)\n",
    "        total += delta_x / 3 * sum_of_terms\n",
    "        x_low = x_low + 2*delta_x\n",
    "    \n",
    "    \n",
    "    return total # change this!"
   ]
  },
  {
   "cell_type": "markdown",
   "metadata": {},
   "source": [
    "### 1.b Test your function\n",
    "\n",
    "Test your function using the cell below. "
   ]
  },
  {
   "cell_type": "code",
   "execution_count": 2,
   "metadata": {},
   "outputs": [
    {
     "data": {
      "text/plain": [
       "0.9411920000000008"
      ]
     },
     "execution_count": 2,
     "metadata": {},
     "output_type": "execute_result"
    }
   ],
   "source": [
    "def testfun(x):\n",
    "    return 3*x**2\n",
    "\n",
    "integrate_HW3(testfun, 0, 1, 100)"
   ]
  },
  {
   "cell_type": "markdown",
   "metadata": {},
   "source": [
    "**What answer do you expect** from `integrate_HW3(testfun, 0, 1, 100)`?\n",
    "\n",
    "We expect 1 "
   ]
  },
  {
   "cell_type": "markdown",
   "metadata": {},
   "source": [
    "### 1.x) Extra credit: Consistency\n",
    "\n",
    "Prove why Newman's equation (5.9),\n",
    "\n",
    "$$\\displaystyle I(a,b) = \\frac{1}{3}\\Delta x\\left[ f(a) + f(b) + 4 \\sum_{k \\text{ odd}}^{N-1} f(a+k\\Delta x) + 2 \\sum_{k \\text{ even}}^{N-2} f(a+k\\Delta x) \\right]$$ \n",
    "\n",
    "is indeed equivalent to the Simpson's rule that we used in Lecture 4:\n",
    "\n",
    "```python\n",
    "def Simpson_Nsteps(function_name, num_steps):\n",
    "    \"\"\"Simpson rule from lower_limit to upper_limit\"\"\"\n",
    "    delta_x = (upper_limit - lower_limit)/num_steps\n",
    "    x_low = lower_limit # lower edge of trapezoid\n",
    "    total = 0.\n",
    "    \n",
    "    while x_low + 2*delta_x <= upper_limit: # see why we do this?\n",
    "        sum_of_terms = function_name(x_low) \\\n",
    "            + 4*function_name(x_low + delta_x) \\\n",
    "            + function_name(x_low + 2*delta_x)\n",
    "        total += delta_x / 3 * sum_of_terms\n",
    "        x_low = x_low + 2*delta_x\n",
    "    \n",
    "    return total\n",
    "```\n",
    "\n",
    "It may be more useful to remember that our `Simpson_Nsteps` function is based on\n",
    "$$\\left(\\text{small area}\\right)_i = \\frac{\\Delta x}{3} \\left[  f(x_i-\\Delta x) + 4f(x_i) + f(x_i+\\Delta x)\\right] \\ .$$\n",
    "You may write you answer in a markdown box below, or attach a pdf to your GitHub repository and include a link to the pdf in this notebook."
   ]
  },
  {
   "cell_type": "markdown",
   "metadata": {},
   "source": [
    "## 2. A Bessel Function\n",
    "[Adapted from Exercise 5.4 from *Computational Physics* by Newman]\n",
    "\n",
    "### Discussion\n",
    "\n",
    "Bessel functions show up all over the place in physics. The Bessel functions $J_m(x)$ are defined by\n",
    "\n",
    "$\\displaystyle J_m(x) = \\frac{1}{\\pi}\\int_0^\\pi \\cos(m\\theta - x \\sin \\theta) \\, d\\theta\\ ,$ \n",
    "\n",
    "where $m$ is a nonnegative integer and $x\\geq 0$. "
   ]
  },
  {
   "cell_type": "markdown",
   "metadata": {},
   "source": [
    "### 2.a) Code the Bessel Function\n",
    "\n",
    "Write your own version of the Bessel function by filling in the cell below."
   ]
  },
  {
   "cell_type": "code",
   "execution_count": 81,
   "metadata": {},
   "outputs": [
    {
     "ename": "NameError",
     "evalue": "name 'z' is not defined",
     "output_type": "error",
     "traceback": [
      "\u001b[0;31m---------------------------------------------------------------------------\u001b[0m",
      "\u001b[0;31mNameError\u001b[0m                                 Traceback (most recent call last)",
      "\u001b[0;32m<ipython-input-81-370ea2aab24e>\u001b[0m in \u001b[0;36m<module>\u001b[0;34m()\u001b[0m\n\u001b[1;32m     28\u001b[0m     \u001b[0;31m# It may be useful to define a local function for the integrand\u001b[0m\u001b[0;34m\u001b[0m\u001b[0;34m\u001b[0m\u001b[0m\n\u001b[1;32m     29\u001b[0m \u001b[0;34m\u001b[0m\u001b[0m\n\u001b[0;32m---> 30\u001b[0;31m \u001b[0mintegrate_HW3\u001b[0m\u001b[0;34m(\u001b[0m\u001b[0mJ\u001b[0m\u001b[0;34m(\u001b[0m\u001b[0mz\u001b[0m\u001b[0;34m)\u001b[0m\u001b[0;34m,\u001b[0m\u001b[0;36m0\u001b[0m\u001b[0;34m,\u001b[0m\u001b[0mpi\u001b[0m\u001b[0;34m,\u001b[0m\u001b[0;36m1000\u001b[0m\u001b[0;34m)\u001b[0m\u001b[0;34m\u001b[0m\u001b[0m\n\u001b[0m",
      "\u001b[0;31mNameError\u001b[0m: name 'z' is not defined"
     ]
    }
   ],
   "source": [
    "from math import pi as pi\n",
    "from math import sin as sin\n",
    "from math import cos as cos\n",
    "m = 1 \n",
    "x = 1\n",
    "def J(z):\n",
    "    return (1/pi)*(cos(m*z - x*sin(z)))\n",
    "    \n",
    "    \n",
    "    \"\"\"\n",
    "    mth Bessel function of the first kind evaluated at real number x,  \n",
    "    calculated using an integral representation with Simpson's rule and 1000 steps\n",
    "    Returns the integral using Simpson's rule\n",
    "    \"\"\"\n",
    "    \n",
    "    def integrate_HW3(function_name, lower_limit, upper_limit, Nsteps):\n",
    "        delta_x = (upper_limit - lower_limit)/Nsteps\n",
    "        x_low = lower_limit\n",
    "        total = 0.0\n",
    "        while x_low + 2*delta_x <= upper_limit:\n",
    "            sum_of_terms = function_name(x_low) +4*function_name(x_low + delta_x) + function_name(x_low + 2*delta_x)\n",
    "            total += delta_x / 3 * sum_of_terms\n",
    "            x_low = x_low + 2*delta_x\n",
    "    \n",
    "    \n",
    "        return total\n",
    "    \n",
    "    # It may be useful to define a local function for the integrand\n",
    "\n",
    "integrate_HW3(J(z),0,pi,1000)\n"
   ]
  },
  {
   "cell_type": "code",
   "execution_count": 77,
   "metadata": {},
   "outputs": [
    {
     "ename": "TypeError",
     "evalue": "J() takes 1 positional argument but 2 were given",
     "output_type": "error",
     "traceback": [
      "\u001b[0;31m---------------------------------------------------------------------------\u001b[0m",
      "\u001b[0;31mTypeError\u001b[0m                                 Traceback (most recent call last)",
      "\u001b[0;32m<ipython-input-77-373fde21b081>\u001b[0m in \u001b[0;36m<module>\u001b[0;34m()\u001b[0m\n\u001b[0;32m----> 1\u001b[0;31m \u001b[0mprint\u001b[0m\u001b[0;34m(\u001b[0m\u001b[0mJ\u001b[0m\u001b[0;34m(\u001b[0m\u001b[0;36m1\u001b[0m\u001b[0;34m,\u001b[0m\u001b[0;36m1\u001b[0m\u001b[0;34m)\u001b[0m\u001b[0;34m)\u001b[0m\u001b[0;34m\u001b[0m\u001b[0m\n\u001b[0m",
      "\u001b[0;31mTypeError\u001b[0m: J() takes 1 positional argument but 2 were given"
     ]
    }
   ],
   "source": [
    "print(J(1,1))"
   ]
  },
  {
   "cell_type": "markdown",
   "metadata": {},
   "source": [
    "### 2.b) Test your Bessel Function\n",
    "\n",
    "Test your Bessel function in the following cell: "
   ]
  },
  {
   "cell_type": "code",
   "execution_count": null,
   "metadata": {},
   "outputs": [],
   "source": [
    "print(J(1,1))"
   ]
  },
  {
   "cell_type": "markdown",
   "metadata": {},
   "source": [
    "The correct answer is $J_1(1)=0.440051$."
   ]
  },
  {
   "cell_type": "markdown",
   "metadata": {},
   "source": [
    "### 2.c) Plot the Bessel Function\n",
    "\n",
    "In this problem we'll use Numpy to **vectorize** our Bessel function so that we can feed it a Numpy array of $x$-values and output a Numpy array of $y$-values. You can read more about vectorizing [here](https://docs.scipy.org/doc/numpy-1.10.0/reference/generated/numpy.vectorize.html).\n",
    "\n",
    "For our purposes, it may be useful to just demonstrate an example. Run the following cell."
   ]
  },
  {
   "cell_type": "code",
   "execution_count": null,
   "metadata": {},
   "outputs": [],
   "source": [
    "# EXAMPLE OF HOW TO USE VECTORIZE\n",
    "import numpy as np\n",
    "\n",
    "def my_function(x,m):\n",
    "    \"\"\"raises x to the power m\"\"\"\n",
    "    return x**m\n",
    "\n",
    "# Now I'd like to apply this to a Numpy array.\n",
    "# But this function doesn't know how to handle arrays.\n",
    "# Let's vectorize it.\n",
    "\n",
    "my_vectorized_function = np.vectorize(my_function)\n",
    "\n",
    "# Here's how we can use this:\n",
    "x = np.linspace(1,4,4)\n",
    "\n",
    "print(\"x is an array:\")\n",
    "print(x)\n",
    "print(\"\")\n",
    "\n",
    "# Update 4/22: replaced \"my_function\" with \"my_vectorized_function\"\n",
    "print(\"check these out:\")\n",
    "print(my_vectorized_function(x,1))\n",
    "print(my_vectorized_function(x,2))\n",
    "print(my_vectorized_function(x,3))\n",
    "print(my_vectorized_function(x,4))"
   ]
  },
  {
   "cell_type": "markdown",
   "metadata": {},
   "source": [
    "**Remark 4/22**: Stephen has pointed out that the original code had a typo: `print(my_function(x,1))` instead of `print(my_vectorized_function(x,1))`. He also observed that `my_function` is simple enough that it doesn't have to be vectorized to accept numpy arrays. +1 for house Stephen."
   ]
  },
  {
   "cell_type": "markdown",
   "metadata": {},
   "source": [
    "Observe that `np.vectorize` takes a function and outputs another function that can take arrays. There's something even more powerful here: `my_function` takes in *two* arguments. `np.vectorize(my_function)` accepts arrays in both. This means that we can use the following construction. Suppose `x` is a list of sample points for a function $f(a,x)$. Then to get a list of `y` values for a given value of $a$:\n",
    "\n",
    "```python\n",
    "\n",
    "# Where f is a function that takes two variables, f(index, x)\n",
    "f_vec = np.vectorize(f)\n",
    "\n",
    "x = np.linspace(min_value, max_value, length_of_array)\n",
    "a = 1\n",
    "\n",
    "y = f_vec(a, x)\n",
    "```\n",
    "\n",
    "Now `x` and `y` can be used to make a plot, as you did in Homework 3a.\n",
    "\n",
    "**Your job in this problem** is to fill in the following code to produce plots of $J_0(x)$, $J_1(x)$ and $J_2(x)$ in matplotlib."
   ]
  },
  {
   "cell_type": "code",
   "execution_count": null,
   "metadata": {},
   "outputs": [],
   "source": [
    "import matplotlib.pyplot as plt\n",
    "import numpy as np\n",
    "\n",
    "# x sample points\n",
    "x = np.linspace(0,10,100)\n",
    "\n",
    "# vectorize the J function\n",
    "J_numpy = np.vectorize(J(m,x))\n",
    "\n",
    "y0 = J(0,x)\n",
    "y1 = J(1,x)\n",
    "y2 = J(2,x)\n",
    "\n",
    "plt.plot(x, \n",
    "         # FILL THIS IN\n",
    "         label='$J_0(x)$')\n",
    "\n",
    "plt.plot(x, \n",
    "         # FILL THIS IN\n",
    "         label='$J_1(x)$')\n",
    "\n",
    "plt.plot(x, \n",
    "         # FILL THIS IN\n",
    "         label='$J_2(x)$')\n",
    "\n",
    "plt.title(\"Some Bessel Functions\")\n",
    "plt.legend()\n",
    "plt.show()\n"
   ]
  }
 ],
 "metadata": {
  "kernelspec": {
   "display_name": "Python 3",
   "language": "python",
   "name": "python3"
  },
  "language_info": {
   "codemirror_mode": {
    "name": "ipython",
    "version": 3
   },
   "file_extension": ".py",
   "mimetype": "text/x-python",
   "name": "python",
   "nbconvert_exporter": "python",
   "pygments_lexer": "ipython3",
   "version": "3.6.4"
  }
 },
 "nbformat": 4,
 "nbformat_minor": 2
}
