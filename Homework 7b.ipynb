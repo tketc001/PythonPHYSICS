{
 "cells": [
  {
   "cell_type": "markdown",
   "metadata": {},
   "source": [
    "# Homework 7b: Diffusion\n",
    "Physics 177, Spring 2018  \n",
    "**Due:** Tuesday, May 22\n",
    "\n",
    "*Enter your name here*"
   ]
  },
  {
   "cell_type": "markdown",
   "metadata": {},
   "source": [
    "## Discussion\n",
    "\n",
    "This problem is motivated by Chapter 7 of *Computational Physics, Second Edition* by N. Giordano and H. Nakanishi. \n",
    "\n",
    "This is a follow up to Homework 7a. You may now be convinced that the random (drunkard's) walk is really a model for diffusion. In other words, it is a microscopic description of the physics that led to the diffusion equation. \n",
    "\n",
    "**Inconsequential Remark**: Here's a deep thought (that's actually a *deep* idea in theoretical physics): the fact that this is a microscopic description that leads to the macroscopic physics of the diffusion equation does not mean that any actual physical system obeying the diffusion equation is described microscopically by a random walk. However, because it maps onto the same macroscopic physics, it doesn't really matter. This is a really heuristic way of describing a program that has come to be known as [renormalization](http://math.ucr.edu/home/baez/renormalization.html).\n",
    "\n",
    "This homework examines what happens when one drop of cream falls into a cup of coffee. To aid in plotting, we work in 2 dimensions. The drop is modeled as $N$ cream molecules that start at the origin of a lattice. The molecules are non-interacting and behave as two-dimensional drunkards: at each time step they move randomly. For simplicity, let them move one unit---up, down, left, or right---each time step."
   ]
  },
  {
   "cell_type": "markdown",
   "metadata": {},
   "source": [
    "## Problem 1: SIngle Cream Molecule Drunkard Walk\n",
    "\n",
    "Simulate the random walk of a single cream molecule starting at the origin of a 2D lattice. \n",
    "\n",
    "Use `nStep = 5000` steps. Plot a map of molecule's position on the $x$-$y$ plane for `t` = `10`, `100`, and `1000`."
   ]
  },
  {
   "cell_type": "code",
   "execution_count": null,
   "metadata": {},
   "outputs": [],
   "source": [
    "%matplotlib inline\n",
    "import numpy as np\n",
    "import random\n",
    "import matplotlib.pyplot as plt\n",
    "\n",
    "nStep = 5000\n",
    "xs = [] # array of x-positions for each time step\n",
    "ys = [] # array of y-positions for each time step\n",
    "\n",
    "x = 0\n",
    "y = 0\n",
    "\n",
    "for i in range(nStep):\n",
    "    # FILL THIS IN\n",
    "        \n",
    "plt.title(\"Random walk: position as a function of time\")\n",
    "plt.plot(xs, ys, 'b-')\n",
    "plt.show()"
   ]
  },
  {
   "cell_type": "markdown",
   "metadata": {},
   "source": [
    "## Problem 2: Diffusion with time\n",
    "\n",
    "Do the same thing for `nParticles = 400` particles. Because these particles are all independent, this boils down to repeating Problem 1 `nPartcles = 400` times and recording all of the data.\n",
    "\n",
    "Plot all `nPartcles = 400` simultaneously for `t` = `10`, `100`, and `1000`. You can color code these by time step."
   ]
  },
  {
   "cell_type": "code",
   "execution_count": null,
   "metadata": {},
   "outputs": [],
   "source": [
    "%matplotlib inline\n",
    "import numpy as np\n",
    "import random\n",
    "import matplotlib.pyplot as plt\n",
    "\n",
    "nStep = 5000\n",
    "nParticles = 400\n",
    "\n",
    "particleXdata = [] # array of arrays of x-positions\n",
    "particleYdata = [] # array of arrays of y-positions\n",
    "\n",
    "## e.g. particleXdata[i,t] is the x-position of the ith molecule at time step t\n",
    "\n",
    "for particle in range(nParticles):\n",
    "    xs = []\n",
    "    ys = []\n",
    "\n",
    "    ## FILL THIS IN\n",
    "            \n",
    "    particleXdata.append(xs)\n",
    "    particleYdata.append(ys)\n",
    "\n",
    "## Convert these into numpy arrays so that matplotlib can use them\n",
    "xdat = np.array(particleXdata)\n",
    "ydat = np.array(particleYdata)"
   ]
  },
  {
   "cell_type": "code",
   "execution_count": null,
   "metadata": {},
   "outputs": [],
   "source": [
    "## Plot at different times.\n",
    "## Make sure you understand how the slices work!\n",
    "\n",
    "plt.title(\"Random walk: position as a function of time\")\n",
    "plt.plot(xdat[:,1000], ydat[:,1000], 'b.')\n",
    "plt.plot(xdat[:,100], ydat[:,100], 'r.')\n",
    "plt.plot(xdat[:,10], ydat[:,10], 'g.')\n",
    "plt.xlim(-100, 100) \n",
    "plt.ylim(-100, 100)\n",
    "plt.show()"
   ]
  },
  {
   "cell_type": "markdown",
   "metadata": {},
   "source": [
    "## Problem 3: Entropy"
   ]
  },
  {
   "cell_type": "markdown",
   "metadata": {},
   "source": [
    "We would like to determine the entropy, $S$, of the drop-of-cream-in-a-cup-of-coffee system as a function of time. \n",
    "\n",
    "$$S = - \\sum_{i\\in \\text{microstates}} P_i \\ln  P_i $$\n",
    "\n",
    "**Remark**: This definition is inspired by the information entropy, or Shannon entropy. You can learn more about this in J. Matchta, \"Entropy, information, and computation,\" [*American Journal of Physics* **67**, 1074 (1999)](https://aapt.scitation.org/doi/10.1119/1.19085) or Styer, \"Insight into entropy,\" [*American Journal of Physics* **68**, 1090 (2000)](https://aapt.scitation.org/doi/abs/10.1119/1.1287353).\n",
    "\n",
    "We know that entropy is additive for independent subsystems, $S_{A+B} = S_A + S_B$, so it's sufficient just to calculate the entropy of a *single* cream molecule diffusing from the origin. The total entropy is simply `nParticles` times the entropy of a single particle. \n",
    "\n",
    "*Why did we simulate 400 of them, then?!* Don't delete that data yet. We'll need it.\n",
    "\n",
    "In order to calculate $S$, we need to know the probability $P_i$ of each particular microstate. We don't actually know this. (Assume that we don't know the analytic solution to the diffusion equation.) We have some intuition: at early times, we know that it's far more likely for the molecule to be near the origin rather than far from it. In fact, we know that it's *impossible* for the cream molecule to be very far because it only travels at a fixed velocity (one step in space per unit of time). \n",
    "\n",
    "### Setting up the problem\n",
    "\n",
    "In fact, there are two problems:\n",
    "\n",
    "1. How do we enumerate a \"complete\" set of \"microstates\"? (Aren't there an infinite number?)\n",
    "2. How do we determine the probability $P_i(t)$ of each microstate at a given time step $t$?\n",
    "\n",
    "We specify the set of microstates as follows:\n",
    "* We **coarse grain** our system so that there are a managable number of microstates.\n",
    "* Place the system on a torus by imposing **periodic boundary conditions**. The physics far away from the edges shouldn't be affected by this.\n",
    "\n",
    "Here's a cartoon:\n",
    "\n",
    "<img src=\"HW7b_coarse.png\">\n",
    "\n",
    "Coarse grain so that $25\\times 25$ lattice blocks are identified as a single lattice point. Here's a nice way to do this:\n",
    "\n",
    "```python\n",
    "int(round(-x/25))%8\n",
    "```\n",
    "\n",
    "Try that out for `x = 27`, `x = -3`, and `x = 30`. If you're confused, try this out for a modulus smaller than 8. \n",
    "\n",
    "### Probabilities\n",
    "\n",
    "In order to determine the probability $P_i(t)$ that a given cream molecule is in a microstate $i$ at time $t$, let's use ensemble of 400 cream molecules that we've already simulated. Take the sample of 400 cream molecules and look at the positions of all 400 molecules at time $t$. To determine the probability of being in, say, the top left corner microstate, $i = (-4,4)$, then we simply count how many of the 400 cream molecules were in that corner and divide by the total number of cream molecules. \n",
    "\n",
    "$$\n",
    "P_i(t) = \\frac{\\text{number of cream molecules in state } i}{\\text{total number of cream molecules}}\n",
    "$$\n",
    "\n",
    "Calculate $S(t)$ and plot it. Observe that $S$ is increasing with time as an average, but there are some microscopic fluctuations where it may decrease with time. These fluctuations die out over finite time and large numbers."
   ]
  },
  {
   "cell_type": "code",
   "execution_count": null,
   "metadata": {},
   "outputs": [],
   "source": [
    "%matplotlib inline\n",
    "import numpy as np\n",
    "import random\n",
    "import matplotlib.pyplot as plt\n",
    "\n",
    "# Number of molecules at each coarse grain block for each time step\n",
    "# initialize to zero\n",
    "count_ij = np.zeros((8,8,nStep))\n",
    "\n",
    "# PERIODIC BOUNDARY CONDITIONS\n",
    "for time in range(nStep):\n",
    "    for drunk in range(nParticles):\n",
    "        i = # FILL THIS IN\n",
    "        j = # FILL THIS IN\n",
    "        count_ij[i,j,time] += 1"
   ]
  },
  {
   "cell_type": "code",
   "execution_count": null,
   "metadata": {},
   "outputs": [],
   "source": [
    "Pij = ## Pij[i,j,t] is the probability to be in block (i,j) at time t\n",
    "\n",
    "## Test this for t=4000, should output an 8x8 block of probabilities\n",
    "print(Pij[:,:,4000])"
   ]
  },
  {
   "cell_type": "code",
   "execution_count": null,
   "metadata": {},
   "outputs": [],
   "source": [
    "from math import log\n",
    "\n",
    "def entropy(time):\n",
    "    ## FILL THIS IN "
   ]
  },
  {
   "cell_type": "code",
   "execution_count": null,
   "metadata": {},
   "outputs": [],
   "source": [
    "entropies = []\n",
    "for i in range(nStep):\n",
    "    ## FILL THIS IN\n",
    "    \n",
    "plt.title(\"Entropy\")\n",
    "plt.plot(range(nStep),entropies, 'b-')\n",
    "plt.show()"
   ]
  },
  {
   "cell_type": "markdown",
   "metadata": {},
   "source": [
    "## Extra Credit\n",
    "\n",
    "Animate Problem 2. \n"
   ]
  },
  {
   "cell_type": "code",
   "execution_count": null,
   "metadata": {},
   "outputs": [],
   "source": []
  }
 ],
 "metadata": {
  "kernelspec": {
   "display_name": "Python 3",
   "language": "python",
   "name": "python3"
  },
  "language_info": {
   "codemirror_mode": {
    "name": "ipython",
    "version": 3
   },
   "file_extension": ".py",
   "mimetype": "text/x-python",
   "name": "python",
   "nbconvert_exporter": "python",
   "pygments_lexer": "ipython3",
   "version": "3.6.3"
  }
 },
 "nbformat": 4,
 "nbformat_minor": 2
}
